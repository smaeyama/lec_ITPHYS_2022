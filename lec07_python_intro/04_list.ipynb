{
 "cells": [
  {
   "cell_type": "markdown",
   "metadata": {},
   "source": [
    "# リスト"
   ]
  },
  {
   "cell_type": "markdown",
   "metadata": {},
   "source": [
    "リストは、順序付きのオブジェクトの集まりである。各要素となるオブジェクトは異なる型をとることができる。  \n",
    "len関数・・・リストの長さを表示"
   ]
  },
  {
   "cell_type": "code",
   "execution_count": 1,
   "metadata": {},
   "outputs": [
    {
     "name": "stdout",
     "output_type": "stream",
     "text": [
      "[1, 2, 3, 8, 1.5, 'word', [1, 2]]\n",
      "<class 'list'>\n",
      "7\n",
      "[1, 2]\n"
     ]
    }
   ],
   "source": [
    "l = [ 1, 2, 3, 8, 1.5, \"word\", [1,2] ]\n",
    "print(l)\n",
    "print(type(l))\n",
    "print(len(l))\n",
    "print(l[6])"
   ]
  },
  {
   "cell_type": "markdown",
   "metadata": {},
   "source": [
    "### スライス\n",
    "・・・リストの一部を取り出す。l[start:stop:step]\n",
    "\n",
    "- Pythonでは、l[start:stop] はインデックス start <= i < stop を返す。l[stop]は含まない。\n",
    "- 最初からl[:stop:step]や、最後までl[start::step]のような省略が可能。\n",
    "- 負のインデックスは末尾から数える。"
   ]
  },
  {
   "cell_type": "code",
   "execution_count": 2,
   "metadata": {},
   "outputs": [
    {
     "name": "stdout",
     "output_type": "stream",
     "text": [
      "[1, 2, 3]\n"
     ]
    }
   ],
   "source": [
    "print(l[0:3])"
   ]
  },
  {
   "cell_type": "code",
   "execution_count": 3,
   "metadata": {},
   "outputs": [
    {
     "name": "stdout",
     "output_type": "stream",
     "text": [
      "[1, 3, 1.5, [1, 2]]\n"
     ]
    }
   ],
   "source": [
    "print(l[0:8:2]) # step=2のインクリメントで、0 <= i < 8までの要素を取り出す。\n",
    "# C言語でいうところの、 for(i=0;i<8;i+=2){ ... }"
   ]
  },
  {
   "cell_type": "code",
   "execution_count": 4,
   "metadata": {},
   "outputs": [
    {
     "name": "stdout",
     "output_type": "stream",
     "text": [
      "[1, 2, 3]\n",
      "[8, 1.5, 'word', [1, 2]]\n"
     ]
    }
   ],
   "source": [
    "#最初から、とか、最後まで、は省略可能\n",
    "print(l[:3])\n",
    "print(l[3:])"
   ]
  },
  {
   "cell_type": "code",
   "execution_count": 5,
   "metadata": {},
   "outputs": [
    {
     "name": "stdout",
     "output_type": "stream",
     "text": [
      "[1, 2]\n",
      "1.5\n",
      "[3, 'word']\n"
     ]
    }
   ],
   "source": [
    "#負のインデックスは末尾から数える。\n",
    "print(l[-1])\n",
    "print(l[-3])\n",
    "print(l[-5::3])"
   ]
  },
  {
   "cell_type": "code",
   "execution_count": 6,
   "metadata": {},
   "outputs": [
    {
     "name": "stdout",
     "output_type": "stream",
     "text": [
      "1\n",
      "2\n",
      "3\n",
      "8\n",
      "1.5\n",
      "word\n",
      "[1, 2]\n"
     ]
    }
   ],
   "source": [
    "#ループ方法1:インデックスを数える\n",
    "for i in range(len(l)):\n",
    "    print(l[i])"
   ]
  },
  {
   "cell_type": "code",
   "execution_count": 7,
   "metadata": {},
   "outputs": [
    {
     "name": "stdout",
     "output_type": "stream",
     "text": [
      "1\n",
      "2\n",
      "3\n",
      "8\n",
      "1.5\n",
      "word\n",
      "[1, 2]\n"
     ]
    }
   ],
   "source": [
    "#ループ方法2:リストの要素に対してもループできる\n",
    "for x in l:\n",
    "    print(x)"
   ]
  },
  {
   "cell_type": "code",
   "execution_count": null,
   "metadata": {},
   "outputs": [],
   "source": []
  },
  {
   "cell_type": "code",
   "execution_count": null,
   "metadata": {},
   "outputs": [],
   "source": []
  },
  {
   "cell_type": "code",
   "execution_count": null,
   "metadata": {},
   "outputs": [],
   "source": []
  }
 ],
 "metadata": {
  "kernelspec": {
   "display_name": "Python 3 (ipykernel)",
   "language": "python",
   "name": "python3"
  },
  "language_info": {
   "codemirror_mode": {
    "name": "ipython",
    "version": 3
   },
   "file_extension": ".py",
   "mimetype": "text/x-python",
   "name": "python",
   "nbconvert_exporter": "python",
   "pygments_lexer": "ipython3",
   "version": "3.7.12"
  }
 },
 "nbformat": 4,
 "nbformat_minor": 4
}
