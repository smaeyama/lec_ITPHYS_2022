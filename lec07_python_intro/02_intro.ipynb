{
 "cells": [
  {
   "cell_type": "markdown",
   "id": "f24c977b-6dbd-4264-bf5a-2ef35cd29112",
   "metadata": {},
   "source": [
    "### Jupyter を使ってみる\n",
    "このセルは\"Markdownセル\"で、文章を記入できます。数式なども書けます。\n",
    "$$\n",
    "  \\frac{\\partial}{\\partial x} \\int_0^x f(x,y) dy = \\int_0^x \\frac{\\partial f(x,y)}{\\partial x} dy + f(x,x)\n",
    "$$\n",
    "\n",
    "下は\"Codeセル\"で、Pythonコード(など)を記述し、[Shift]+[Enter]でセル内のコードを部分実行します。"
   ]
  },
  {
   "cell_type": "code",
   "execution_count": 1,
   "id": "ddc85823-f0af-416f-91d0-130869a824ed",
   "metadata": {},
   "outputs": [
    {
     "name": "stdout",
     "output_type": "stream",
     "text": [
      "Hello World\n",
      "1 <class 'int'>\n"
     ]
    }
   ],
   "source": [
    "print(\"Hello World\")\n",
    "a=5 // 3\n",
    "print(a,type(a))\n",
    "# a=\"Char\"\n",
    "# print(a,type(a))"
   ]
  },
  {
   "cell_type": "code",
   "execution_count": 2,
   "id": "1798c069-1cd0-4853-9911-7a829da9c575",
   "metadata": {
    "tags": []
   },
   "outputs": [
    {
     "name": "stdout",
     "output_type": "stream",
     "text": [
      "1\n"
     ]
    }
   ],
   "source": [
    "print(a**2)"
   ]
  },
  {
   "cell_type": "code",
   "execution_count": null,
   "id": "30b80fe9-6ba3-4336-b6da-99b86c5382f0",
   "metadata": {},
   "outputs": [],
   "source": []
  },
  {
   "cell_type": "code",
   "execution_count": null,
   "id": "382e9f80-23ab-41de-a094-8db241982035",
   "metadata": {},
   "outputs": [],
   "source": []
  },
  {
   "cell_type": "code",
   "execution_count": null,
   "id": "b0e3a472-e1c9-4a7e-ae23-cf00571a781d",
   "metadata": {},
   "outputs": [],
   "source": []
  },
  {
   "cell_type": "code",
   "execution_count": null,
   "id": "630b4827-c065-41d2-b88d-03d8a6d27c14",
   "metadata": {},
   "outputs": [],
   "source": []
  }
 ],
 "metadata": {
  "kernelspec": {
   "display_name": "Python 3 (ipykernel)",
   "language": "python",
   "name": "python3"
  },
  "language_info": {
   "codemirror_mode": {
    "name": "ipython",
    "version": 3
   },
   "file_extension": ".py",
   "mimetype": "text/x-python",
   "name": "python",
   "nbconvert_exporter": "python",
   "pygments_lexer": "ipython3",
   "version": "3.7.12"
  }
 },
 "nbformat": 4,
 "nbformat_minor": 5
}
