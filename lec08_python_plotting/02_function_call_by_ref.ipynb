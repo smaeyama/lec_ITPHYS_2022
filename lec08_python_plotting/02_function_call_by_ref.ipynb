{
 "cells": [
  {
   "cell_type": "markdown",
   "metadata": {},
   "source": [
    "# Pythonにおける関数定義\n",
    "```\n",
    "def 関数名(引数1, 引数2, ...):\n",
    "    処理\n",
    "    return 返り値1, 返り値2, ...\n",
    "```\n",
    "\n",
    "Pythonにおける関数の引数は参照渡しだが、**「引数は書き換えない。得たい値はすべて返り値として返す」**というシンプルな使い方を推奨。"
   ]
  },
  {
   "cell_type": "code",
   "execution_count": 1,
   "metadata": {},
   "outputs": [
    {
     "name": "stdout",
     "output_type": "stream",
     "text": [
      "1.0 2.0\n",
      "2.0 1.0\n",
      "# 引数は書き換えない。得たい値はすべて返り値として返す。シンプルイズベスト！\n"
     ]
    }
   ],
   "source": [
    "def swap(a, b):\n",
    "    '''\n",
    "    引数 a, b を入れ替えて、返り値として返す.\n",
    "    '''\n",
    "    return b, a\n",
    "\n",
    "a=1.0\n",
    "b=2.0\n",
    "print(a,b)\n",
    "a, b = swap(a,b)\n",
    "print(a,b)\n",
    "print(\"# 引数は書き換えない。得たい値はすべて返り値として返す。シンプルイズベスト！\")"
   ]
  },
  {
   "cell_type": "markdown",
   "metadata": {},
   "source": [
    "## 引数を書き換えようとして失敗した悪い例1"
   ]
  },
  {
   "cell_type": "code",
   "execution_count": 2,
   "metadata": {},
   "outputs": [
    {
     "name": "stdout",
     "output_type": "stream",
     "text": [
      "1.0 2.0\n",
      "1.0 2.0\n",
      "# float は immutable 変数なので、関数呼び出し元の変数アドレスの値を書き換えることはできない\n"
     ]
    }
   ],
   "source": [
    "def swap_float_fail(a, b):\n",
    "    tmp = b\n",
    "    b = a\n",
    "    a = tmp\n",
    "    return\n",
    "\n",
    "a=1.0\n",
    "b=2.0\n",
    "print(a,b)\n",
    "swap_float_fail(a,b)\n",
    "print(a,b)\n",
    "\n",
    "print(\"# float は immutable 変数なので、関数呼び出し元の変数アドレスの値を書き換えることはできない\")"
   ]
  },
  {
   "cell_type": "markdown",
   "metadata": {},
   "source": [
    "## 引数を書き換えようとして失敗した悪い例2"
   ]
  },
  {
   "cell_type": "code",
   "execution_count": 3,
   "metadata": {},
   "outputs": [
    {
     "name": "stdout",
     "output_type": "stream",
     "text": [
      "[1, 2, 3] ['a', 'b', 'c']\n",
      "[1, 2, 3] ['a', 'b', 'c']\n",
      "# list は mutable 変数なので、関数呼び出し元の変数アドレスの値を書き換えることが可能なはずだが失敗。\n",
      "# ここでは、関数の中で lb=la などとしたときに、lb(新たに割り付けられた変数) = la として新たなアドレスに動的割り付けが行われており、呼び出し元の変数lbの値は変わっていない。\n"
     ]
    }
   ],
   "source": [
    "def swap_list_fail1(la, lb):\n",
    "    tmp = lb\n",
    "    # print(\"Address of lb:\",hex(id(lb)))\n",
    "    lb = la\n",
    "    # print(\"Address of lb:\",hex(id(lb)))\n",
    "    la = tmp\n",
    "    return\n",
    "\n",
    "la=[1,2,3]\n",
    "lb=[\"a\",\"b\",\"c\"]\n",
    "print(la,lb)\n",
    "# print(\"Address of lb:\",hex(id(lb)))\n",
    "swap_list_fail1(la,lb)\n",
    "# print(\"Address of lb:\",hex(id(lb)))\n",
    "print(la,lb)\n",
    "\n",
    "print(\"# list は mutable 変数なので、関数呼び出し元の変数アドレスの値を書き換えることが可能なはずだが失敗。\")\n",
    "print(\"# ここでは、関数の中で lb=la などとしたときに、lb(新たに割り付けられた変数) = la として新たなアドレスに動的割り付けが行われており、呼び出し元の変数lbの値は変わっていない。\")"
   ]
  },
  {
   "cell_type": "markdown",
   "metadata": {},
   "source": [
    "## 引数を書き換えようとして失敗した悪い例3"
   ]
  },
  {
   "cell_type": "code",
   "execution_count": 4,
   "metadata": {},
   "outputs": [
    {
     "name": "stdout",
     "output_type": "stream",
     "text": [
      "[1, 2, 3] ['a', 'b', 'c']\n",
      "[1, 2, 3] [1, 2, 3]\n",
      "# list は mutable 変数なので、関数呼び出し元の変数アドレスの値を書き換えることが可能。\n",
      "# lb[:]=la と記述することで、lb[:](既に確保してあるオブジェクトの要素を書き換える) = la として、関数呼び出し元の変数lbの値を書き換えている。\n",
      "# ここでの失敗は、関数呼び出し自身ではなく、mutable変数に対する代入文 = は参照渡しとなることに起因している。\n",
      "# tmp=lb は tmpはlbと同じオブジェクトを参照しているということ。id(tmp)とid(lb)を確認すると同じ。\n",
      "# さらに、lb[:]=la により、tmpもlbも[1,2,3]となってしまった。※id(lb)は変わらないがlbの値がlaと同じになった。\n"
     ]
    }
   ],
   "source": [
    "def swap_list_fail2(la, lb):\n",
    "    tmp = lb\n",
    "    # print(\"Address\",hex(id(la)),hex(id(lb)),hex(id(tmp)))\n",
    "    # print(\"la,lb,tmp=\",la,lb,tmp)\n",
    "    lb[:] = la\n",
    "    # print(\"la,lb,tmp=\",la,lb,tmp)\n",
    "    la[:] = tmp\n",
    "    return\n",
    "\n",
    "la=[1,2,3]\n",
    "lb=[\"a\",\"b\",\"c\"]\n",
    "print(la,lb)\n",
    "swap_list_fail2(la,lb)\n",
    "print(la,lb)\n",
    "\n",
    "print(\"# list は mutable 変数なので、関数呼び出し元の変数アドレスの値を書き換えることが可能。\")\n",
    "print(\"# lb[:]=la と記述することで、lb[:](既に確保してあるオブジェクトの要素を書き換える) = la として、関数呼び出し元の変数lbの値を書き換えている。\")\n",
    "print(\"# ここでの失敗は、関数呼び出し自身ではなく、mutable変数に対する代入文 = は参照渡しとなることに起因している。\")\n",
    "print(\"# tmp=lb は tmpはlbと同じオブジェクトを参照しているということ。id(tmp)とid(lb)を確認すると同じ。\")\n",
    "print(\"# さらに、lb[:]=la により、tmpもlbも[1,2,3]となってしまった。※id(lb)は変わらないがlbの値がlaと同じになった。\")"
   ]
  },
  {
   "cell_type": "markdown",
   "metadata": {},
   "source": [
    "## 正しく扱えば引数を書き換えられる例。しかし、上記の例の様に間違えやすいので推奨しない"
   ]
  },
  {
   "cell_type": "code",
   "execution_count": 5,
   "metadata": {},
   "outputs": [
    {
     "name": "stdout",
     "output_type": "stream",
     "text": [
      "[1, 2, 3] ['a', 'b', 'c']\n",
      "['a', 'b', 'c'] [1, 2, 3]\n",
      "# list は mutable 変数なので、関数呼び出し元の変数アドレスの値を書き換えることが可能。\n",
      "# tmp=lb.copy() は copy関数により値をtmpにコピーする。tmpとlbは異なるオブジェクト。idも当然異なる。\n",
      "# lb[:]=la と記述することで、既に確保してあるオブジェクトlbの要素をlaの値で書き換える。id(lb)は変わらず、id(la)とは異なる。\n",
      "# la[:]=tmp と記述することで、既に確保してあるオブジェクトlaの要素をtmpの値で書き換える。id(la)は変わらず、id(tmp)とは異なる。\n"
     ]
    }
   ],
   "source": [
    "def swap_list_success(la, lb):\n",
    "    tmp = lb.copy()\n",
    "    # print(\"Address\",hex(id(la)),hex(id(lb)),hex(id(tmp)))\n",
    "    lb[:] = la\n",
    "    la[:] = tmp\n",
    "    return\n",
    "\n",
    "la=[1,2,3]\n",
    "lb=[\"a\",\"b\",\"c\"]\n",
    "print(la,lb)\n",
    "swap_list_success(la,lb)\n",
    "print(la,lb)\n",
    "\n",
    "print(\"# list は mutable 変数なので、関数呼び出し元の変数アドレスの値を書き換えることが可能。\")\n",
    "print(\"# tmp=lb.copy() は copy関数により値をtmpにコピーする。tmpとlbは異なるオブジェクト。idも当然異なる。\")\n",
    "print(\"# lb[:]=la と記述することで、既に確保してあるオブジェクトlbの要素をlaの値で書き換える。id(lb)は変わらず、id(la)とは異なる。\")\n",
    "print(\"# la[:]=tmp と記述することで、既に確保してあるオブジェクトlaの要素をtmpの値で書き換える。id(la)は変わらず、id(tmp)とは異なる。\")"
   ]
  },
  {
   "cell_type": "code",
   "execution_count": null,
   "metadata": {},
   "outputs": [],
   "source": []
  }
 ],
 "metadata": {
  "kernelspec": {
   "display_name": "Python 3 (ipykernel)",
   "language": "python",
   "name": "python3"
  },
  "language_info": {
   "codemirror_mode": {
    "name": "ipython",
    "version": 3
   },
   "file_extension": ".py",
   "mimetype": "text/x-python",
   "name": "python",
   "nbconvert_exporter": "python",
   "pygments_lexer": "ipython3",
   "version": "3.10.6"
  }
 },
 "nbformat": 4,
 "nbformat_minor": 4
}
